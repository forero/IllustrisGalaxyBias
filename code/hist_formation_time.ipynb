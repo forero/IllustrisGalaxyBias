{
 "cells": [
  {
   "cell_type": "code",
   "execution_count": 140,
   "metadata": {},
   "outputs": [],
   "source": [
    "import numpy as np\n",
    "import matplotlib.pyplot as plt\n",
    "import matplotlib\n",
    "#matplotlib.rcParams['text.usetex'] = True\n",
    "import illustris_python.groupcat as gc\n",
    "import pandas as pd\n",
    "\n",
    "plt.rc('text', usetex=True)\n",
    "plt.rc('font', family='serif')\n",
    "MEDIUM_SIZE = 30\n",
    "SMALL_SIZE = 22\n",
    "SSSMALL_SIZE = 16\n",
    "\n",
    "plt.rc('font', size=SSSMALL_SIZE)          # controls default text sizes\n",
    "plt.rc('axes', titlesize=MEDIUM_SIZE)     # fontsize of the axes title\n",
    "plt.rc('axes', labelsize=MEDIUM_SIZE)    # fontsize of the x and y labels\n",
    "plt.rc('xtick', labelsize=SMALL_SIZE)    # fontsize of the tick labels\n",
    "plt.rc('ytick', labelsize=SMALL_SIZE) \n",
    "\n",
    "%matplotlib inline"
   ]
  },
  {
   "cell_type": "code",
   "execution_count": 141,
   "metadata": {},
   "outputs": [],
   "source": [
    "gal_formation_hires_file = '/Users/forero/Illustris_data/formation_times_TNG300/301/Galaxies/All_Galaxies/ZM_Galaxies3001.dat'"
   ]
  },
  {
   "cell_type": "code",
   "execution_count": null,
   "metadata": {},
   "outputs": [],
   "source": [
    "dtype=[('HaloID', 'i8'),('GalID', 'i8'), ('snapform', 'f8'),('zform', 'f8'),('mass', 'f8'),\n",
    "       ('x', 'f8'),('y', 'f8'),('z', 'f8')]\n",
    "gal_formation_hires = np.loadtxt(gal_formation_hires_file, dtype=dtype)\n"
   ]
  },
  {
   "cell_type": "code",
   "execution_count": null,
   "metadata": {},
   "outputs": [],
   "source": [
    "env_data = pd.read_csv('../data/dataset_stellar_mass_cut_10-10.5.csv')"
   ]
  },
  {
   "cell_type": "code",
   "execution_count": null,
   "metadata": {},
   "outputs": [],
   "source": [
    "env_data['TNGID'] = np.int_(env_data['TNGID'])"
   ]
  },
  {
   "cell_type": "code",
   "execution_count": null,
   "metadata": {},
   "outputs": [],
   "source": [
    "env_data"
   ]
  },
  {
   "cell_type": "code",
   "execution_count": null,
   "metadata": {},
   "outputs": [],
   "source": [
    "ii = np.isin(gal_formation_hires['GalID'], env_data['TNGID'])\n",
    "print(np.count_nonzero(ii), len(env_data))"
   ]
  },
  {
   "cell_type": "code",
   "execution_count": null,
   "metadata": {},
   "outputs": [],
   "source": [
    "_ = plt.hist(env_data['stellar_mass'], bins=30, alpha=0.3)\n",
    "_ = plt.hist(np.log10(gal_formation_hires['mass'][ii])+10, bins=30, alpha=0.5)"
   ]
  },
  {
   "cell_type": "code",
   "execution_count": null,
   "metadata": {},
   "outputs": [],
   "source": [
    "gal_formation_hires_sorted = np.sort(gal_formation_hires, order='GalID')\n",
    "ii = np.isin(gal_formation_hires_sorted['GalID'], env_data['TNGID'])\n",
    "zform = gal_formation_hires_sorted['zform'][ii]\n",
    "galid = gal_formation_hires_sorted['GalID'][ii]"
   ]
  },
  {
   "cell_type": "code",
   "execution_count": null,
   "metadata": {},
   "outputs": [],
   "source": [
    "ii_sorted_zform = np.argsort(zform)\n",
    "n_q = len(zform)//4"
   ]
  },
  {
   "cell_type": "code",
   "execution_count": 134,
   "metadata": {},
   "outputs": [
    {
     "name": "stdout",
     "output_type": "stream",
     "text": [
      "5219 5219\n",
      "5219 5219\n"
     ]
    }
   ],
   "source": [
    "galid_late = galid[ii_sorted_zform[:n_q]]\n",
    "galid_early = galid[ii_sorted_zform[-n_q:]]\n",
    "print(len(galid_late), len(galid_early))\n",
    "ii = np.isin(env_data['TNGID'], galid_late)\n",
    "dens_late = env_data['density'][ii]\n",
    "env_late = env_data['Env_original'][ii]\n",
    "\n",
    "ii = np.isin(env_data['TNGID'], galid_early)\n",
    "dens_early = env_data['density'][ii]\n",
    "env_early = env_data['Env_original'][ii]\n",
    "print(len(dens_late), len(dens_early))"
   ]
  },
  {
   "cell_type": "code",
   "execution_count": 136,
   "metadata": {},
   "outputs": [
    {
     "data": {
      "text/plain": [
       "(array([2.400e+03, 0.000e+00, 0.000e+00, 2.475e+03, 0.000e+00, 0.000e+00,\n",
       "        3.430e+02, 0.000e+00, 0.000e+00, 1.000e+00]),\n",
       " array([0. , 0.3, 0.6, 0.9, 1.2, 1.5, 1.8, 2.1, 2.4, 2.7, 3. ]),\n",
       " <a list of 10 Patch objects>)"
      ]
     },
     "execution_count": 136,
     "metadata": {},
     "output_type": "execute_result"
    },
    {
     "data": {
      "image/png": "[encoded data removed]",
      "text/plain": [
       "<Figure size 720x288 with 2 Axes>"
      ]
     },
     "metadata": {
      "needs_background": "light"
     },
     "output_type": "display_data"
    }
   ],
   "source": [
    "plt.figure(figsize=(10,4))\n",
    "plt.subplot(1,2,1)\n",
    "\n",
    "hist_bins = np.linspace(-20,20,20)\n",
    "out  = plt.hist(dens_late, bins=hist_bins, log=True)\n",
    "count_late = out[0]\n",
    "out = plt.hist(dens_early, bins=hist_bins, alpha=0.5, log=True)\n",
    "count_early = out[0]\n",
    "\n",
    "plt.subplot(1,2,2)\n",
    "plt.hist(env_late)\n",
    "plt.hist(env_early, alpha=0.5)"
   ]
  },
  {
   "cell_type": "code",
   "execution_count": 137,
   "metadata": {},
   "outputs": [
    {
     "name": "stdout",
     "output_type": "stream",
     "text": [
      "0.0 0\n",
      "0.0 0\n",
      "0.0 0\n",
      "1.0 0\n",
      "0.5542168674698795 82\n",
      "0.5491573033707865 711\n",
      "0.6116504854368932 1441\n",
      "0.7114308553157475 1250\n",
      "1.0496732026143791 764\n",
      "1.9850107066381157 466\n",
      "2.501766784452297 282\n",
      "3.4857142857142858 104\n",
      "1.7746478873239437 70\n",
      "2.0 29\n",
      "0.7 9\n",
      "0.4 4\n",
      "0.0 1\n",
      "0.0 0\n",
      "0.0 0\n"
     ]
    }
   ],
   "source": [
    "weights = np.zeros(len(dens_late))\n",
    "for i in range(len(count_early)):\n",
    "    ratio = count_early[i]/(count_late[i]+1)\n",
    "    ii = (dens_late >= hist_bins[i]) & (dens_late<hist_bins[i+1])\n",
    "    weights[ii] = ratio\n",
    "    print(ratio, np.count_nonzero(ii))"
   ]
  },
  {
   "cell_type": "code",
   "execution_count": 139,
   "metadata": {},
   "outputs": [
    {
     "data": {
      "text/plain": [
       "(array([2.400e+03, 0.000e+00, 0.000e+00, 2.475e+03, 0.000e+00, 0.000e+00,\n",
       "        3.430e+02, 0.000e+00, 0.000e+00, 1.000e+00]),\n",
       " array([0. , 0.3, 0.6, 0.9, 1.2, 1.5, 1.8, 2.1, 2.4, 2.7, 3. ]),\n",
       " <a list of 10 Patch objects>)"
      ]
     },
     "execution_count": 139,
     "metadata": {},
     "output_type": "execute_result"
    },
    {
     "data": {
      "image/png": "[encoded data removed]",
      "text/plain": [
       "<Figure size 720x288 with 2 Axes>"
      ]
     },
     "metadata": {
      "needs_background": "light"
     },
     "output_type": "display_data"
    }
   ],
   "source": [
    "plt.figure(figsize=(10,4))\n",
    "plt.subplot(1,2,1)\n",
    "\n",
    "hist_bins = np.linspace(-20,20,20)\n",
    "out  = plt.hist(dens_late, bins=hist_bins, weights=weights, log=True)\n",
    "out = plt.hist(dens_early, bins=hist_bins, alpha=0.5, log=True)\n",
    "\n",
    "plt.subplot(1,2,2)\n",
    "plt.hist(env_late, weights=weights)\n",
    "plt.hist(env_early, alpha=0.5)"
   ]
  },
  {
   "cell_type": "code",
   "execution_count": null,
   "metadata": {},
   "outputs": [],
   "source": []
  }
 ],
 "metadata": {
  "kernelspec": {
   "display_name": "Python 3",
   "language": "python",
   "name": "python3"
  },
  "language_info": {
   "codemirror_mode": {
    "name": "ipython",
    "version": 3
   },
   "file_extension": ".py",
   "mimetype": "text/x-python",
   "name": "python",
   "nbconvert_exporter": "python",
   "pygments_lexer": "ipython3",
   "version": "3.6.10"
  }
 },
 "nbformat": 4,
 "nbformat_minor": 4
}
