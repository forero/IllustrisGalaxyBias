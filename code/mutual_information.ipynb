{
 "cells": [
  {
   "cell_type": "code",
   "execution_count": 1,
   "id": "64964ea2",
   "metadata": {},
   "outputs": [],
   "source": [
    "import numpy as np\n",
    "import matplotlib.pyplot as plt"
   ]
  },
  {
   "cell_type": "code",
   "execution_count": 2,
   "id": "36741628",
   "metadata": {},
   "outputs": [],
   "source": [
    "quartil_matrix = {}"
   ]
  },
  {
   "cell_type": "code",
   "execution_count": 62,
   "id": "e3264544",
   "metadata": {},
   "outputs": [
    {
     "name": "stdout",
     "output_type": "stream",
     "text": [
      "0.997\n"
     ]
    }
   ],
   "source": [
    "quartil_matrix[9.0] = np.zeros((4,4))\n",
    "quartil_matrix[9.0][0,0] = 0.147 # first index ranges over halo quartiles, second index over galaxy quartiles\n",
    "quartil_matrix[9.0][0,1] = 0.064\n",
    "quartil_matrix[9.0][0,2] = 0.030\n",
    "quartil_matrix[9.0][0,3] = 0.008\n",
    "\n",
    "quartil_matrix[9.0][1,0] = 0.070 \n",
    "quartil_matrix[9.0][1,1] = 0.088\n",
    "quartil_matrix[9.0][1,2] = 0.062\n",
    "quartil_matrix[9.0][1,3] = 0.029\n",
    "\n",
    "quartil_matrix[9.0][2,0] = 0.027 \n",
    "quartil_matrix[9.0][2,1] = 0.071\n",
    "quartil_matrix[9.0][2,2] = 0.086\n",
    "quartil_matrix[9.0][2,3] = 0.065\n",
    "\n",
    "quartil_matrix[9.0][3,0] = 0.005 \n",
    "quartil_matrix[9.0][3,1] = 0.026\n",
    "quartil_matrix[9.0][3,2] = 0.071\n",
    "quartil_matrix[9.0][3,3] = 0.148\n",
    "\n",
    "print(np.sum(quartil_matrix[9.0]))"
   ]
  },
  {
   "cell_type": "code",
   "execution_count": 63,
   "id": "4c724e88",
   "metadata": {},
   "outputs": [
    {
     "name": "stdout",
     "output_type": "stream",
     "text": [
      "1.0\n"
     ]
    }
   ],
   "source": [
    "m = 10.25\n",
    "quartil_matrix[m] = np.zeros((4,4))\n",
    "quartil_matrix[m][0,0] = 0.152 # first index ranges over halo quartiles, second index over galaxy quartiles\n",
    "quartil_matrix[m][0,1] = 0.068\n",
    "quartil_matrix[m][0,2] = 0.024\n",
    "quartil_matrix[m][0,3] = 0.005\n",
    "\n",
    "quartil_matrix[m][1,0] = 0.046 \n",
    "quartil_matrix[m][1,1] = 0.100\n",
    "quartil_matrix[m][1,2] = 0.070\n",
    "quartil_matrix[m][1,3] = 0.034\n",
    "\n",
    "quartil_matrix[m][2,0] = 0.026 \n",
    "quartil_matrix[m][2,1] = 0.050\n",
    "quartil_matrix[m][2,2] = 0.100\n",
    "quartil_matrix[m][2,3] = 0.074\n",
    "\n",
    "\n",
    "quartil_matrix[m][3,0] = 0.026 \n",
    "quartil_matrix[m][3,1] = 0.032\n",
    "quartil_matrix[m][3,2] = 0.056\n",
    "quartil_matrix[m][3,3] = 0.137\n",
    "\n",
    "\n",
    "print(np.sum(quartil_matrix[m]))"
   ]
  },
  {
   "cell_type": "code",
   "execution_count": 64,
   "id": "dae9e559",
   "metadata": {},
   "outputs": [
    {
     "name": "stdout",
     "output_type": "stream",
     "text": [
      "1.0\n"
     ]
    }
   ],
   "source": [
    "m = 11.25\n",
    "quartil_matrix[m] = np.zeros((4,4))\n",
    "quartil_matrix[m][0,0] = 0.115 # first index ranges over halo quartiles, second index over galaxy quartiles\n",
    "quartil_matrix[m][0,1] = 0.089\n",
    "quartil_matrix[m][0,2] = 0.041\n",
    "quartil_matrix[m][0,3] = 0.005\n",
    "\n",
    "quartil_matrix[m][1,0] = 0.057 \n",
    "quartil_matrix[m][1,1] = 0.068\n",
    "quartil_matrix[m][1,2] = 0.084\n",
    "quartil_matrix[m][1,3] = 0.041\n",
    "\n",
    "quartil_matrix[m][2,0] = 0.041 \n",
    "quartil_matrix[m][2,1] = 0.053\n",
    "quartil_matrix[m][2,2] = 0.058\n",
    "quartil_matrix[m][2,3] = 0.098\n",
    "\n",
    "\n",
    "quartil_matrix[m][3,0] = 0.038 \n",
    "quartil_matrix[m][3,1] = 0.039\n",
    "quartil_matrix[m][3,2] = 0.067\n",
    "quartil_matrix[m][3,3] = 0.106\n",
    "print(np.sum(quartil_matrix[m]))"
   ]
  },
  {
   "cell_type": "code",
   "execution_count": 65,
   "id": "af523658",
   "metadata": {},
   "outputs": [],
   "source": [
    "def mutual_information(M):\n",
    "    I = 0\n",
    "    for i in range(4):\n",
    "        for j in range(4):\n",
    "            p_x = np.sum(M[i,:])\n",
    "            p_y = np.sum(M[:,j])\n",
    "            p_xy = M[i,j]\n",
    "            I+= p_xy * np.log2(p_xy/(p_x*p_y))\n",
    "    return I/2\n",
    "            "
   ]
  },
  {
   "cell_type": "code",
   "execution_count": 67,
   "id": "47f0bb21",
   "metadata": {},
   "outputs": [
    {
     "data": {
      "text/plain": [
       "(0.1642053853969797, 0.15006363544710666, 0.0842353514243282)"
      ]
     },
     "execution_count": 67,
     "metadata": {},
     "output_type": "execute_result"
    }
   ],
   "source": [
    "mutual_information(quartil_matrix[9.0]), mutual_information(quartil_matrix[10.25]), mutual_information(quartil_matrix[11.25])"
   ]
  },
  {
   "cell_type": "code",
   "execution_count": 78,
   "id": "f7cb4e31",
   "metadata": {},
   "outputs": [
    {
     "name": "stdout",
     "output_type": "stream",
     "text": [
      "1.0\n",
      "0.0\n"
     ]
    }
   ],
   "source": [
    "N = np.diag(np.diag(0.25*np.ones((4,4)))) + 1E-20\n",
    "print(mutual_information(N))\n",
    "\n",
    "R = np.ones((4,4))/16.0\n",
    "print(mutual_information(R))"
   ]
  },
  {
   "cell_type": "code",
   "execution_count": null,
   "id": "fc459392",
   "metadata": {},
   "outputs": [],
   "source": []
  }
 ],
 "metadata": {
  "kernelspec": {
   "display_name": "Python 3",
   "language": "python",
   "name": "python3"
  },
  "language_info": {
   "codemirror_mode": {
    "name": "ipython",
    "version": 3
   },
   "file_extension": ".py",
   "mimetype": "text/x-python",
   "name": "python",
   "nbconvert_exporter": "python",
   "pygments_lexer": "ipython3",
   "version": "3.8.10"
  }
 },
 "nbformat": 4,
 "nbformat_minor": 5
}
